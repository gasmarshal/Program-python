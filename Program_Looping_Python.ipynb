{
  "nbformat": 4,
  "nbformat_minor": 0,
  "metadata": {
    "colab": {
      "name": "Program_Looping_Python.ipynb",
      "provenance": []
    },
    "kernelspec": {
      "name": "python3",
      "display_name": "Python 3"
    },
    "language_info": {
      "name": "python"
    }
  },
  "cells": [
    {
      "cell_type": "markdown",
      "metadata": {
        "id": "DnF1JEDi1Z7R"
      },
      "source": [
        "Soal 1. Buat program bercabangan dan perulangan dengan input nama anggota kelas frontera dan jika nama dimasukkan akan muncul semester, nama kampus, dan jurusan.\n",
        "\n",
        "kondisi: \n",
        "Soal no 1, cukup 3 orang saja, trus kalo misalnya nama tidak terdata maka program harus bisa mendeteksi bahwa nama tersebut tidak dikenali"
      ]
    },
    {
      "cell_type": "code",
      "metadata": {
        "id": "-TmZeBErsu_S",
        "colab": {
          "base_uri": "https://localhost:8080/",
          "height": 536
        },
        "outputId": "22e91769-74c5-4fc8-b822-c7596cc8458e"
      },
      "source": [
        "#PROGRAM PERULANGAN BERCABANG UNTUK MENGETAHUI MAHASISWA ATAU MAHASISWA YANG TERDAFTAR DENGAN PENCARIAN NAMA\n",
        "\n",
        "#dictionary siswa\n",
        "siswa1={\"Nama\": \"Ateng\",\n",
        "        \"Semester\": \"7\",\n",
        "        \"Kampus\": \"Universitas Seadanya\",\n",
        "        \"Jurusan\": \"ternak lele\"}\n",
        "siswa2={\"Nama\": \"Sule\",\n",
        "        \"Semester\": \"7\",\n",
        "        \"Kampus\": \"Universitas Indonesia\",\n",
        "        \"Jurusan\": \"Sistem informasi\"}\n",
        "siswa3={\"Nama\": \"Najma\",\n",
        "        \"Semester\": \"5\",\n",
        "        \"Kampus\": \"Universitas Apaaja\",\n",
        "        \"Jurusan\": \"Teknik Informatika\"}\n",
        "\n",
        "#input data siswa dengan menggunakan huruf kapital sesuai dengan data pada dictionary\n",
        "siswa=input(\"Masukkan Nama :\")\n",
        "\n",
        "if siswa in siswa1['Nama']:\n",
        "  for i,v in siswa1.items():\n",
        "    print(i,' ',v)\n",
        "    \n",
        "elif siswa in siswa2['Nama'] :\n",
        "  for i,v in siswa2.items():\n",
        "    print(i,' ',v)\n",
        "    \n",
        "elif siswa in siswa3['Nama'] :\n",
        "  for i,v in siswa3.items():\n",
        "    print(i,' ',v)\n",
        "\n",
        "else: \n",
        "  print(\"siswa gada disini \")"
      ],
      "execution_count": null,
      "outputs": [
        {
          "output_type": "error",
          "ename": "KeyboardInterrupt",
          "evalue": "ignored",
          "traceback": [
            "\u001b[0;31m---------------------------------------------------------------------------\u001b[0m",
            "\u001b[0;31mKeyboardInterrupt\u001b[0m                         Traceback (most recent call last)",
            "\u001b[0;32m/usr/local/lib/python3.7/dist-packages/ipykernel/kernelbase.py\u001b[0m in \u001b[0;36m_input_request\u001b[0;34m(self, prompt, ident, parent, password)\u001b[0m\n\u001b[1;32m    728\u001b[0m             \u001b[0;32mtry\u001b[0m\u001b[0;34m:\u001b[0m\u001b[0;34m\u001b[0m\u001b[0;34m\u001b[0m\u001b[0m\n\u001b[0;32m--> 729\u001b[0;31m                 \u001b[0mident\u001b[0m\u001b[0;34m,\u001b[0m \u001b[0mreply\u001b[0m \u001b[0;34m=\u001b[0m \u001b[0mself\u001b[0m\u001b[0;34m.\u001b[0m\u001b[0msession\u001b[0m\u001b[0;34m.\u001b[0m\u001b[0mrecv\u001b[0m\u001b[0;34m(\u001b[0m\u001b[0mself\u001b[0m\u001b[0;34m.\u001b[0m\u001b[0mstdin_socket\u001b[0m\u001b[0;34m,\u001b[0m \u001b[0;36m0\u001b[0m\u001b[0;34m)\u001b[0m\u001b[0;34m\u001b[0m\u001b[0;34m\u001b[0m\u001b[0m\n\u001b[0m\u001b[1;32m    730\u001b[0m             \u001b[0;32mexcept\u001b[0m \u001b[0mException\u001b[0m\u001b[0;34m:\u001b[0m\u001b[0;34m\u001b[0m\u001b[0;34m\u001b[0m\u001b[0m\n",
            "\u001b[0;32m/usr/local/lib/python3.7/dist-packages/jupyter_client/session.py\u001b[0m in \u001b[0;36mrecv\u001b[0;34m(self, socket, mode, content, copy)\u001b[0m\n\u001b[1;32m    802\u001b[0m         \u001b[0;32mtry\u001b[0m\u001b[0;34m:\u001b[0m\u001b[0;34m\u001b[0m\u001b[0;34m\u001b[0m\u001b[0m\n\u001b[0;32m--> 803\u001b[0;31m             \u001b[0mmsg_list\u001b[0m \u001b[0;34m=\u001b[0m \u001b[0msocket\u001b[0m\u001b[0;34m.\u001b[0m\u001b[0mrecv_multipart\u001b[0m\u001b[0;34m(\u001b[0m\u001b[0mmode\u001b[0m\u001b[0;34m,\u001b[0m \u001b[0mcopy\u001b[0m\u001b[0;34m=\u001b[0m\u001b[0mcopy\u001b[0m\u001b[0;34m)\u001b[0m\u001b[0;34m\u001b[0m\u001b[0;34m\u001b[0m\u001b[0m\n\u001b[0m\u001b[1;32m    804\u001b[0m         \u001b[0;32mexcept\u001b[0m \u001b[0mzmq\u001b[0m\u001b[0;34m.\u001b[0m\u001b[0mZMQError\u001b[0m \u001b[0;32mas\u001b[0m \u001b[0me\u001b[0m\u001b[0;34m:\u001b[0m\u001b[0;34m\u001b[0m\u001b[0;34m\u001b[0m\u001b[0m\n",
            "\u001b[0;32m/usr/local/lib/python3.7/dist-packages/zmq/sugar/socket.py\u001b[0m in \u001b[0;36mrecv_multipart\u001b[0;34m(self, flags, copy, track)\u001b[0m\n\u001b[1;32m    624\u001b[0m         \"\"\"\n\u001b[0;32m--> 625\u001b[0;31m         \u001b[0mparts\u001b[0m \u001b[0;34m=\u001b[0m \u001b[0;34m[\u001b[0m\u001b[0mself\u001b[0m\u001b[0;34m.\u001b[0m\u001b[0mrecv\u001b[0m\u001b[0;34m(\u001b[0m\u001b[0mflags\u001b[0m\u001b[0;34m,\u001b[0m \u001b[0mcopy\u001b[0m\u001b[0;34m=\u001b[0m\u001b[0mcopy\u001b[0m\u001b[0;34m,\u001b[0m \u001b[0mtrack\u001b[0m\u001b[0;34m=\u001b[0m\u001b[0mtrack\u001b[0m\u001b[0;34m)\u001b[0m\u001b[0;34m]\u001b[0m\u001b[0;34m\u001b[0m\u001b[0;34m\u001b[0m\u001b[0m\n\u001b[0m\u001b[1;32m    626\u001b[0m         \u001b[0;31m# have first part already, only loop while more to receive\u001b[0m\u001b[0;34m\u001b[0m\u001b[0;34m\u001b[0m\u001b[0;34m\u001b[0m\u001b[0m\n",
            "\u001b[0;32mzmq/backend/cython/socket.pyx\u001b[0m in \u001b[0;36mzmq.backend.cython.socket.Socket.recv\u001b[0;34m()\u001b[0m\n",
            "\u001b[0;32mzmq/backend/cython/socket.pyx\u001b[0m in \u001b[0;36mzmq.backend.cython.socket.Socket.recv\u001b[0;34m()\u001b[0m\n",
            "\u001b[0;32mzmq/backend/cython/socket.pyx\u001b[0m in \u001b[0;36mzmq.backend.cython.socket._recv_copy\u001b[0;34m()\u001b[0m\n",
            "\u001b[0;32m/usr/local/lib/python3.7/dist-packages/zmq/backend/cython/checkrc.pxd\u001b[0m in \u001b[0;36mzmq.backend.cython.checkrc._check_rc\u001b[0;34m()\u001b[0m\n",
            "\u001b[0;31mKeyboardInterrupt\u001b[0m: ",
            "\nDuring handling of the above exception, another exception occurred:\n",
            "\u001b[0;31mKeyboardInterrupt\u001b[0m                         Traceback (most recent call last)",
            "\u001b[0;32m<ipython-input-6-14a3be13d1c3>\u001b[0m in \u001b[0;36m<module>\u001b[0;34m()\u001b[0m\n\u001b[1;32m     15\u001b[0m \u001b[0;34m\u001b[0m\u001b[0m\n\u001b[1;32m     16\u001b[0m \u001b[0;34m\u001b[0m\u001b[0m\n\u001b[0;32m---> 17\u001b[0;31m \u001b[0msiswa\u001b[0m\u001b[0;34m=\u001b[0m\u001b[0minput\u001b[0m\u001b[0;34m(\u001b[0m\u001b[0;34m\"Masukkan Nama :'Gunakan Huruf Kapital ya'\"\u001b[0m\u001b[0;34m)\u001b[0m\u001b[0;34m\u001b[0m\u001b[0;34m\u001b[0m\u001b[0m\n\u001b[0m\u001b[1;32m     18\u001b[0m \u001b[0;34m\u001b[0m\u001b[0m\n\u001b[1;32m     19\u001b[0m \u001b[0;32mif\u001b[0m \u001b[0msiswa\u001b[0m \u001b[0;32min\u001b[0m \u001b[0msiswa1\u001b[0m\u001b[0;34m[\u001b[0m\u001b[0;34m'Nama'\u001b[0m\u001b[0;34m]\u001b[0m\u001b[0;34m:\u001b[0m\u001b[0;34m\u001b[0m\u001b[0;34m\u001b[0m\u001b[0m\n",
            "\u001b[0;32m/usr/local/lib/python3.7/dist-packages/ipykernel/kernelbase.py\u001b[0m in \u001b[0;36mraw_input\u001b[0;34m(self, prompt)\u001b[0m\n\u001b[1;32m    702\u001b[0m             \u001b[0mself\u001b[0m\u001b[0;34m.\u001b[0m\u001b[0m_parent_ident\u001b[0m\u001b[0;34m,\u001b[0m\u001b[0;34m\u001b[0m\u001b[0;34m\u001b[0m\u001b[0m\n\u001b[1;32m    703\u001b[0m             \u001b[0mself\u001b[0m\u001b[0;34m.\u001b[0m\u001b[0m_parent_header\u001b[0m\u001b[0;34m,\u001b[0m\u001b[0;34m\u001b[0m\u001b[0;34m\u001b[0m\u001b[0m\n\u001b[0;32m--> 704\u001b[0;31m             \u001b[0mpassword\u001b[0m\u001b[0;34m=\u001b[0m\u001b[0;32mFalse\u001b[0m\u001b[0;34m,\u001b[0m\u001b[0;34m\u001b[0m\u001b[0;34m\u001b[0m\u001b[0m\n\u001b[0m\u001b[1;32m    705\u001b[0m         )\n\u001b[1;32m    706\u001b[0m \u001b[0;34m\u001b[0m\u001b[0m\n",
            "\u001b[0;32m/usr/local/lib/python3.7/dist-packages/ipykernel/kernelbase.py\u001b[0m in \u001b[0;36m_input_request\u001b[0;34m(self, prompt, ident, parent, password)\u001b[0m\n\u001b[1;32m    732\u001b[0m             \u001b[0;32mexcept\u001b[0m \u001b[0mKeyboardInterrupt\u001b[0m\u001b[0;34m:\u001b[0m\u001b[0;34m\u001b[0m\u001b[0;34m\u001b[0m\u001b[0m\n\u001b[1;32m    733\u001b[0m                 \u001b[0;31m# re-raise KeyboardInterrupt, to truncate traceback\u001b[0m\u001b[0;34m\u001b[0m\u001b[0;34m\u001b[0m\u001b[0;34m\u001b[0m\u001b[0m\n\u001b[0;32m--> 734\u001b[0;31m                 \u001b[0;32mraise\u001b[0m \u001b[0mKeyboardInterrupt\u001b[0m\u001b[0;34m\u001b[0m\u001b[0;34m\u001b[0m\u001b[0m\n\u001b[0m\u001b[1;32m    735\u001b[0m             \u001b[0;32melse\u001b[0m\u001b[0;34m:\u001b[0m\u001b[0;34m\u001b[0m\u001b[0;34m\u001b[0m\u001b[0m\n\u001b[1;32m    736\u001b[0m                 \u001b[0;32mbreak\u001b[0m\u001b[0;34m\u001b[0m\u001b[0;34m\u001b[0m\u001b[0m\n",
            "\u001b[0;31mKeyboardInterrupt\u001b[0m: "
          ]
        }
      ]
    },
    {
      "cell_type": "markdown",
      "metadata": {
        "id": "gE6icg-ntB28"
      },
      "source": [
        "TUGAS NO 2 Buat program percabangan dan perulangan untuk menghitung volume bangun ruang, 5 \n",
        "bangun ruang\n",
        "\n",
        "Aturan\n",
        "1. Program harus bisa melanjutkan perhitungn dan juga keluar dari looping\n",
        "2. Program harus bisa membuat pilihan menghitung bangun ruang mana atau bangun datar mana\n",
        "3. Ketika bangun datar atau ruangnya sudah dipilih program harus bisa memilih untuk mengitung luas, volume, luar permukaan"
      ]
    },
    {
      "cell_type": "code",
      "metadata": {
        "id": "DHbdndtatIrM"
      },
      "source": [
        "print(\"SELAMAT DATANG DI PROGRAM\\nMENGHITUNG VOLUME & LUAS PERMUKAAN BOLA\")\n",
        "\n",
        "#lingkaran\n",
        "def bola():\n",
        "  jari_jari = float(input(\"\\nMasukan jari-jari dalam cm: \"))\n",
        "  print(\"\\nPilih 1 untuk menghitung volume\\nPilih 2 untuk menghitung luas permukaan\")\n",
        "  pilihan_kalkulasi = input(\"\\nInput pilihan: \")\n",
        "  phi = 3.14\n",
        "\n",
        "  if pilihan_kalkulasi == \"1\":\n",
        "    volume = 4/3 * phi * jari_jari**3\n",
        "    print(\"\\nVolume Bola adalah: \",volume, \"cm^3\")\n",
        "  elif pilihan_kalkulasi == \"2\":\n",
        "    luas_permukaan = 4 * phi * jari_jari**2\n",
        "    print(\"Luas Permukaan Bola adalah: \",luas_permukaan, \"cm^2\")\n",
        "  else:\n",
        "    print(\"\\nMaaf, pilihan tidak tersedia\")\n",
        "\n",
        "#kubus\n",
        "def kubus():\n",
        "  sisi= float(input(\"Masukkan sisi dalam cm :\"))\n",
        "  print(\"\\nPilih 1 untuk menghitung volume\\nPilih 2 untuk menghitung luas permukaan\")\n",
        "  pilihan_kalkulasi = input(\"\\nInput pilihan: \")\n",
        "\n",
        "  if pilihan_kalkulasi == \"1\":\n",
        "    volume = sisi*sisi*sisi\n",
        "    print(\"\\nVolume kubus adalah: \",volume, \"cm^3\")\n",
        "  elif pilihan_kalkulasi == \"2\":\n",
        "    luas_permukaan = 6 * (sisi * sisi)\n",
        "    print(\"Luas Permukaan Kubus adalah: \",luas_permukaan, \"cm^2\")\n",
        "  else:\n",
        "    print(\"\\nMaaf, pilihan tidak tersedia\")\n",
        "\n",
        "#Balok\n",
        "def balok():\n",
        "  p = float(input(\"Masukkan panjang dalam cm :\"))\n",
        "  l = float(input(\"Masukkan lebar dalam cm :\"))\n",
        "  t = float(input(\"Masukkan tingga dalam cm :\"))\n",
        "  print(\"\\nPilih 1 untuk menghitung volume\\nPilih 2 untuk menghitung luas permukaan\")\n",
        "  pilihan_kalkulasi = input(\"\\nInput pilihan: \")\n",
        "\n",
        "  if pilihan_kalkulasi == \"1\":\n",
        "    volume = p *l *t \n",
        "    print(\"\\nVolume balok adalah: \",volume, \"cm^3\")\n",
        "  elif pilihan_kalkulasi == \"2\":\n",
        "    luas_permukaan = 2 * (p*l + l*t + p*t)\n",
        "    print(\"Luas Permukaan balok adalah: \",luas_permukaan, \"cm^2\")\n",
        "  else:\n",
        "    print(\"\\nMaaf, pilihan tidak tersedia\")\n",
        "\n",
        "#Limas segitiga\n",
        "def limas():\n",
        "  luas_alas = float(input(\"Masukkan luas alas dalam cm :\"))\n",
        "  luas_selubung = float(input(\"Masukkan lluas selubung limas dalam cm :\"))\n",
        "   \n",
        "  print(\"\\nPilih 1 untuk menghitung volume\\nPilih 2 untuk menghitung luas permukaan\")\n",
        "  pilihan_kalkulasi = input(\"\\nInput pilihan: \")\n",
        "\n",
        "  if pilihan_kalkulasi == \"1\":\n",
        "    volume = 1/3 * luas_alas * t\n",
        "    print(\"\\nVolume balok adalah: \",volume, \"cm^3\")\n",
        "  elif pilihan_kalkulasi == \"2\":\n",
        "    luas_permukaan = luas_alas + luas_selubung\n",
        "    print(\"Luas Permukaan balok adalah: \",luas_permukaan, \"cm^2\")\n",
        "  else:\n",
        "    print(\"\\nMaaf, pilihan tidak tersedia\")\n",
        "\n",
        "#Limas segiempat\n",
        "def limasempat():\n",
        "  luas_alas = float(input(\"Masukkan luas alas dalam cm :\"))\n",
        "  luas_selubung = float(input(\"Masukkan lluas selubung limas dalam cm :\"))\n",
        "   \n",
        "  print(\"\\nPilih 1 untuk menghitung volume\\nPilih 2 untuk menghitung luas permukaan\")\n",
        "  pilihan_kalkulasi = input(\"\\nInput pilihan: \")\n",
        "\n",
        "  if pilihan_kalkulasi == \"1\":\n",
        "    volume = 1/3 * luas_alas * t\n",
        "    print(\"\\nVolume balok adalah: \",volume, \"cm^3\")\n",
        "  elif pilihan_kalkulasi == \"2\":\n",
        "    luas_permukaan = luas_alas + luas_selubung\n",
        "    print(\"Luas Permukaan balok adalah: \",luas_permukaan, \"cm^2\")\n",
        "  else:\n",
        "    print(\"\\nMaaf, pilihan tidak tersedia\")\n",
        "\n",
        "\n",
        "if __name__ == '__main__':\n",
        "  while True:\n",
        "    print(\"\\nPilih 1 untuk menghitung bangun ruang \\nPilih 2 untuk keluar\")\n",
        "    pilihan_IO = input(\"\\nInput pilihan: \")\n",
        "\n",
        "    if pilihan_IO == \"1\":\n",
        "      print(\"ada 5 pilihan nih mau ngitung yang mana?\")\n",
        "      print(\"\\n1 bola \\n2 kubus \\n3 Balok \\n4 Limas Segitiga \\n5 Limas Segiempat\")\n",
        "      pilihan=input(\"\\ninput pilihan lagi coy\")\n",
        "      if pilihan == \"1\":\n",
        "        bola()\n",
        "      elif pilihan == \"2\":\n",
        "        kubus()\n",
        "      elif pilihan == \"3\":\n",
        "        balok()\n",
        "      elif pilihan == \"4\":\n",
        "        limas()            \n",
        "      elif pilihan == \"5\":\n",
        "        limasempat()\n",
        "    elif pilihan_IO == \"2\":\n",
        "      break\n",
        "    else:\n",
        "      print(\"Pilihan tidak ada\")\n",
        "  \n",
        "\n",
        "print(\"\\nTerimakasih telah menggunakan program ini.\")"
      ],
      "execution_count": null,
      "outputs": []
    },
    {
      "cell_type": "markdown",
      "metadata": {
        "id": "BQb-TaBk3FaP"
      },
      "source": [
        "BONUS TUGAS : MENAMPILKAN BILANGAN GANJIL DAN GENAP "
      ]
    },
    {
      "cell_type": "code",
      "metadata": {
        "id": "CKQsZknS3E-9"
      },
      "source": [
        "#program untuk mendeteksi bilangan genap dan ganjil, dan bisa mendeteksi bahwa bilangan tersebut habis dibagi 4\n",
        "print('Masukkan nilai ganjil dan nilai genap')\n",
        "\n",
        "x = int(input('Masukkan x: '))\n",
        "\n",
        "print(\"\"\"\\nTampilkan bilangan\n",
        " 1. Ganjil\n",
        " 2. Genap\"\"\")\n",
        "\n",
        "pilihan = int(input('Pilihan: '))\n",
        "if pilihan not in [1, 2]:\n",
        "  print('Pilihan salah')\n",
        "else:\n",
        "  \n",
        "  for x in range(x + 1):\n",
        "    if pilihan == 1 and x % 4 == 1:\n",
        "      print(x, end=' ')\n",
        "    elif pilihan == 2 and x % 4 == 0:\n",
        "      print(x, end=' ')\n",
        "  else:\n",
        "    \n",
        "    print('')"
      ],
      "execution_count": null,
      "outputs": []
    }
  ]
}
